{
 "cells": [
  {
   "cell_type": "markdown",
   "metadata": {},
   "source": [
    "# Utilisation de Explauto pour faire bouger des objets"
   ]
  },
  {
   "cell_type": "markdown",
   "metadata": {},
   "source": [
    "Nous allons reprendre le torse de Poppy tel que l'on pouvait l'utiliser lors du TD 1.\n",
    "\n",
    "L'objectif de ce TD est d'utiliser Explauto pour générer des données d'apprentissage, lesquelles seront utilisées par Poppy pour faire bouger un objet (on travaillera sur un cube)."
   ]
  },
  {
   "cell_type": "markdown",
   "metadata": {},
   "source": [
    "# Instanciation du poppy et du cube"
   ]
  },
  {
   "cell_type": "markdown",
   "metadata": {},
   "source": [
    "On se définit un jeu de fonctions permettant:\n",
    "\n",
    "  * La connexion à vrep,\n",
    "  * L'instanciation de l'environnement, de Poppy (torse) et des modèles d'intérêt/sensorimoteur vierges\n",
    "  * Le chargement des modèles d'intérêt et sensorimoteur depuis un fichier \n",
    "  * La création de l'expérience\n",
    "\n",
    "La première fonction s'exécute que l'on souhaite réaliser l'apprentissage ou non. Si l'on souhaite charger des données d'apprentissage, la troisième fonction est utile, sinon il faut créer des modèles vides, et exécuter l'expérience d'apprentissage."
   ]
  },
  {
   "cell_type": "code",
   "execution_count": 9,
   "metadata": {
    "collapsed": false,
    "scrolled": false
   },
   "outputs": [],
   "source": [
    "from poppy.creatures import PoppyTorso\n",
    "from explauto.environment.poppy import PoppyEnvironment\n",
    "\n",
    "from explauto import InterestModel, SensorimotorModel\n",
    "from explauto import Agent, Experiment\n",
    "import numpy\n",
    "\n",
    "import pickle\n",
    "\n",
    "%matplotlib inline\n",
    "import matplotlib.pyplot as libplot\n",
    "from mpl_toolkits.mplot3d import Axes3D\n",
    "\n",
    "import pypot\n",
    "\n",
    "def resetPoppy():\n",
    "    global poppy\n",
    "    pypot.vrep.close_all_connections()\n",
    "    poppy = PoppyTorso(simulator='vrep', scene='/home/corentin/ENS/L3/TDs/INVITE/n/poppy_avec_cube.ttt')\n",
    "    \n",
    "def resetEnv(tracked_obj, m_mins, m_maxs, s_mins, s_maxs):\n",
    "    global env, sm_model, im_model, xp, agent, poppy, X, Y, Z\n",
    "    # The move duration (in s)\n",
    "    move_duration = 2.0\n",
    "    # On pilotera le bras gauche de poppy, les mouvements dureront deux secondes\n",
    "    motors = poppy.l_arm\n",
    "    # let's define the environment\n",
    "    env = PoppyEnvironment(poppy, \n",
    "                       motors, move_duration,\n",
    "                       poppy, tracked_obj,\n",
    "                       m_mins, m_maxs, s_mins, s_maxs)\n",
    "    \n",
    "    # The SM & IM models. We're doing a goal babbling, as s_dims shows.\n",
    "    sm_model = SensorimotorModel.from_configuration(env.conf, \n",
    "                                                'WNN', \n",
    "                                                'default')\n",
    "    \n",
    "    im_model = InterestModel.from_configuration(env.conf, \n",
    "                                            env.conf.s_dims,\n",
    "                                            'discretized_progress') # or random, at your option\n",
    "    agent = Agent(env.conf, sm_model, im_model)\n",
    "    xp = Experiment(env, agent)\n",
    "    \n",
    "    n = 3j\n",
    "    X, Y, Z = numpy.mgrid[s_mins[0] + 0.1: s_maxs[0]:n - 0.1, \n",
    "                          s_mins[1] + 0.1: s_maxs[1]:n - 0.1, \n",
    "                          s_mins[2] + 0.1: s_maxs[2]:n - 0.1]\n",
    "    \n",
    "    dense_testcase = numpy.column_stack((X.flat, Y.flat, Z.flat))\n",
    "    xp.evaluate_at([1, 10, 20, 30], dense_testcase)\n",
    "    \n",
    "def dumpTorsoResults():\n",
    "    global sm_model, im_model\n",
    "    with open('torso-cube.im', 'wb') as f: \n",
    "        pickle.dump(im_model, f)\n",
    "    \n",
    "    with open('torso-cube.sm', 'wb') as f:\n",
    "        pickle.dump(sm_model, f)\n",
    "\n",
    "def loadTorsoResults():\n",
    "    global sm_model, im_model    \n",
    "    with open('torso-cube.sm','rb') as f:\n",
    "        sm_model = pickle.load(f)\n",
    "    \n",
    "    with open('torso-cube.im','rb') as f:\n",
    "        im_model = pickle.load(f)\n"
   ]
  },
  {
   "cell_type": "markdown",
   "metadata": {},
   "source": [
    "# Expérience d'apprentissage"
   ]
  },
  {
   "cell_type": "markdown",
   "metadata": {},
   "source": [
    "L'exécution de cette section n'est nécessaire que pour réaliser l'apprentissage initial."
   ]
  },
  {
   "cell_type": "code",
   "execution_count": 4,
   "metadata": {
    "collapsed": false
   },
   "outputs": [],
   "source": [
    "# Mise à zéro de Poppy, initialisation de vrep\n",
    "resetPoppy()\n",
    "\n",
    "# You can use any object present in the V-REP scene here\n",
    "tracked_obj = 'cube'\n",
    "\n",
    "# The motors bounds for each one of the 4 motors in the arm\n",
    "m_mins = [-15, 0, -90, -90]\n",
    "m_maxs = [90, 90, 90, 0]\n",
    "\n",
    "# The sensori bounds of the more or less reachable 3D space\n",
    "# on prendra la surface de la table\n",
    "s_mins = [-0.3, -0.2, 0.4]\n",
    "s_maxs = [0.5, 0.2, 0.7]\n",
    "\n",
    "resetEnv(tracked_obj, m_mins, m_maxs, s_mins, s_maxs)"
   ]
  },
  {
   "cell_type": "markdown",
   "metadata": {},
   "source": [
    "Le code qui suit permet de se donner une idée de l'espace à explorer."
   ]
  },
  {
   "cell_type": "code",
   "execution_count": 5,
   "metadata": {
    "collapsed": false
   },
   "outputs": [
    {
     "data": {
      "image/png": "[encoded data removed]",
      "text/plain": [
       "<matplotlib.figure.Figure at 0x7f8a98a3f940>"
      ]
     },
     "metadata": {},
     "output_type": "display_data"
    }
   ],
   "source": [
    "fig = libplot.figure()\n",
    "ax = fig.add_subplot(1,1,1, projection='3d')\n",
    "pl = ax.scatter(X,Y,Z)"
   ]
  },
  {
   "cell_type": "markdown",
   "metadata": {},
   "source": [
    "## Apprentissage du bras droit (prend quelques minutes)"
   ]
  },
  {
   "cell_type": "code",
   "execution_count": 6,
   "metadata": {
    "collapsed": false,
    "scrolled": true
   },
   "outputs": [],
   "source": [
    "xp.run()"
   ]
  },
  {
   "cell_type": "markdown",
   "metadata": {},
   "source": [
    "Lors de cet apprentissage, qui prend quelques minutes, Poppy va tenter différentes positions pour son bras; les positions du cube serviront de résultat expérimental : le cube a-t-il bougé ?"
   ]
  },
  {
   "cell_type": "markdown",
   "metadata": {},
   "source": [
    "## Courbe d'apprentissage"
   ]
  },
  {
   "cell_type": "markdown",
   "metadata": {},
   "source": [
    "On peut se donner une idée de ce que l'apprentissage a permis d'atteindre en termes d'erreur, et en termes de points atteints relativement aux points souhaités."
   ]
  },
  {
   "cell_type": "code",
   "execution_count": 7,
   "metadata": {
    "collapsed": false
   },
   "outputs": [
    {
     "data": {
      "image/png": "[encoded data removed]",
      "text/plain": [
       "<matplotlib.figure.Figure at 0x7f8a98152c88>"
      ]
     },
     "metadata": {},
     "output_type": "display_data"
    }
   ],
   "source": [
    "ax = libplot.subplot(111)\n",
    "xp.log.plot_learning_curve(ax)"
   ]
  },
  {
   "cell_type": "code",
   "execution_count": 8,
   "metadata": {
    "collapsed": false
   },
   "outputs": [
    {
     "data": {
      "image/png": "[encoded data removed]",
      "text/plain": [
       "<matplotlib.figure.Figure at 0x7f8a980d7438>"
      ]
     },
     "metadata": {},
     "output_type": "display_data"
    }
   ],
   "source": [
    "fig = libplot.figure()\n",
    "ax = fig.add_subplot(1,1,1)\n",
    "xp.log.scatter_plot(ax, (('sensori',  [0, 1]),), color='blue')\n",
    "xp.log.scatter_plot(ax, (('choice',  [0, 1]),), color='green')\n"
   ]
  },
  {
   "cell_type": "markdown",
   "metadata": {},
   "source": [
    "## Sauvergarde des résultats obtenus"
   ]
  },
  {
   "cell_type": "markdown",
   "metadata": {},
   "source": [
    "On va sauvergarder les modèles d'intérêt et sensorimoteur que l'expérience nous a permis d'obtenir, dans un fichier.\n",
    "Nous pourrons ainsi réutiliser ces modèles plus tard sans avoir à refaire l'apprentissage."
   ]
  },
  {
   "cell_type": "code",
   "execution_count": 9,
   "metadata": {
    "collapsed": false
   },
   "outputs": [],
   "source": [
    "dumpTorsoResults()"
   ]
  },
  {
   "cell_type": "markdown",
   "metadata": {},
   "source": [
    "# Usage des modèles d'intérêt et sensorimoteur appris"
   ]
  },
  {
   "cell_type": "markdown",
   "metadata": {},
   "source": [
    "## Prependum : Chargement du modèle d'intérêt"
   ]
  },
  {
   "cell_type": "markdown",
   "metadata": {},
   "source": [
    "Si vous n'avez pas effectué sur place l'apprentissage, vous pouvez charger les modèles sensorimoteur et d'intérêt depuis les fichiers où vous les avez sauvegardés:"
   ]
  },
  {
   "cell_type": "code",
   "execution_count": 11,
   "metadata": {
    "collapsed": false
   },
   "outputs": [],
   "source": [
    "resetPoppy()\n",
    "# You can use any object present in the V-REP scene here\n",
    "tracked_obj = 'cube'\n",
    "\n",
    "# The motors bounds for each one of the 4 motors in the arm\n",
    "m_mins = [-15, 0, -90, -90]\n",
    "m_maxs = [90, 90, 90, 0]\n",
    "\n",
    "# The sensori bounds of the more or less reachable 3D space\n",
    "# on prendra la surface de la table\n",
    "s_mins = [-0.3, -0.2, 0.4]\n",
    "s_maxs = [0.5, 0.2, 0.7]\n",
    "\n",
    "resetEnv(tracked_obj, m_mins, m_maxs, s_mins, s_maxs)\n",
    "loadTorsoResults()"
   ]
  },
  {
   "cell_type": "markdown",
   "metadata": {},
   "source": [
    "## Crash-test"
   ]
  },
  {
   "cell_type": "markdown",
   "metadata": {},
   "source": [
    "On se propose maintenant de tester les modèles appris et de faire bouger le cube à Poppy.\n",
    "\n",
    "<i>Il ne faut pas s'attendre à des miracles !</i>\n",
    "\n",
    "L'expérience sera la suivante : on prendra un jeu de points au hasard dans un espace réputé atteignable (correspondant à peu de choses près à quatre fois la surface sur table du cube devant poppy), et l'on tentera de faire déplacer le cube pour chacun des points déterminés."
   ]
  },
  {
   "cell_type": "code",
   "execution_count": 12,
   "metadata": {
    "collapsed": false
   },
   "outputs": [],
   "source": [
    "Npoints = 20\n",
    "minX = -0.4\n",
    "maxX = 0.4\n",
    "minY = 0.1\n",
    "maxY = 0.4\n",
    "minZ = 0.6\n",
    "maxZ = 0.8\n",
    "Xgoal = (maxX - minX) * numpy.random.random_sample(Npoints) + minX\n",
    "Ygoal = (maxY - minY) * numpy.random.random_sample(Npoints) + minY\n",
    "Zgoal = (maxZ - minZ) * numpy.random.random_sample(Npoints) + minZ\n",
    "goals = [(Xgoal[i], Ygoal[i], Zgoal[i]) for i in range(Npoints)]\n",
    "\n",
    "reachedXs = []\n",
    "reachedYs = []\n",
    "\n",
    "def goto(pos, duration=2.0):\n",
    "    m_ag = sm_model.inverse_prediction(pos)\n",
    "    m_env = env.compute_motor_command(m_ag)\n",
    "    \n",
    "    env.move_duration = duration\n",
    "    env.compute_sensori_effect(m_env)\n",
    "\n",
    "def runExperiment():\n",
    "    global goals, poppy, reachedXs, reachedYs\n",
    "    ioController = poppy._controllers[0].io\n",
    "    for goal in goals:\n",
    "        poppy.reset_simulation()\n",
    "        goto(goal)\n",
    "        reached = ioController.get_object_position('cube')\n",
    "        reachedXs.append(reached[0])\n",
    "        reachedYs.append(reached[1])\n",
    "\n",
    "# Just do it !\n",
    "runExperiment()"
   ]
  },
  {
   "cell_type": "code",
   "execution_count": 13,
   "metadata": {
    "collapsed": false
   },
   "outputs": [
    {
     "data": {
      "image/png": "[encoded data removed]",
      "text/plain": [
       "<matplotlib.figure.Figure at 0x7fef7c42df98>"
      ]
     },
     "metadata": {},
     "output_type": "display_data"
    }
   ],
   "source": [
    "# And now, plot the results...\n",
    "\n",
    "fig = libplot.figure()\n",
    "ax = fig.add_subplot(111)\n",
    "\n",
    "ax.scatter(Xgoal, Ygoal, color='blue')\n",
    "ax.scatter(reachedXs, reachedYs, color='green')\n",
    "\n",
    "pypot.vrep.close_all_connections()"
   ]
  },
  {
   "cell_type": "markdown",
   "metadata": {},
   "source": [
    "# Observations et analyse"
   ]
  },
  {
   "cell_type": "markdown",
   "metadata": {},
   "source": [
    "## Relativement à l'apprentissage\n",
    "\n",
    "J'ai choisi d'utiliser le modèle sensorimoteur basé sur le plus proche voisin pondéré, ainsi que le modèle d'intérêt <i>discretized_progress</i>.\n",
    "\n",
    "L'apprentissage est long et peu efficace : le seul senseur sur lequel nos modèles sensorimoteur et d'intérêt récupèrent des informations est le cube, ou plus précisément son senseur positionnel.\n",
    "\n",
    "Sur un millier d'essais, Poppy a été toucher le cube une fois sur dix. Cependant, le grand nombre de points explorés en-dehors du cube permettent également de savoir que Poppy ne déplacera pas le cube s'il déplace son bras dans ces points : ce n'est pas parce que le cube n'a pas été touché que le robot n'a rien appris.\n",
    "\n",
    "Deux stratégies d'apprentissage différentes peuvent être envisagées :\n",
    "  * L'apprentissage par points aléatoirement choisis dans un espace uniformément distribué,\n",
    "  * L'apprentissage favorisant les zones inconnues.\n",
    "\n",
    "L'avantage de la première méthode sur la seconde est que pour un grand nombre d'essais, le cube sera potentiellement plus touché, et l'on aura donc la possibilité de le déplacer plus précisément lors de l'expérience.\n",
    "\n",
    "A contrario, la seconde méthode nécessitera potentiellement moins d'essais que la première pour deviner la position du cube et être sûr d'aller le déplacer. \n",
    "\n",
    "Tout dépend du but de l'expérience : cherche-t-on seulement à <i>déplacer</i> le cube, ou cherche-t-on à le <i>déplacer vers un point précis</i> ?\n",
    "\n",
    "Les courbes d'apprentissage ne sont hélas pas très parlantes, l'erreur commise est très importante car on effectue un goal babbling sur un objet que le robot n'est même pas sûr de toucher. Il est donc difficile de conclure sur l'efficacité d'une méthode à l'aide de ces courbes."
   ]
  },
  {
   "cell_type": "markdown",
   "metadata": {},
   "source": [
    "## Relativement à l'expérience post-apprentissage\n",
    "\n",
    "Cette expérience semble assez peu concluante.\n",
    "\n",
    "La librairie explauto n'a pas respecté la contrainte du nombre d'essais pour l'apprentissage: en 4 heures, l'apprentissage pour 50 essais n'était pas terminé, alors que plus de 4500 simulations ont eu lieu.\n",
    "\n",
    "Le modèle sensorimoteur ainsi que le modèle d'intérêt produits donnent un unique point d'arrivée pour le cube : celui-ci n'est pas touché lors de l'expérience post-apprentissage."
   ]
  }
 ],
 "metadata": {
  "kernelspec": {
   "display_name": "Python 3",
   "language": "python",
   "name": "python3"
  },
  "language_info": {
   "codemirror_mode": {
    "name": "ipython",
    "version": 3
   },
   "file_extension": ".py",
   "mimetype": "text/x-python",
   "name": "python",
   "nbconvert_exporter": "python",
   "pygments_lexer": "ipython3",
   "version": "3.5.1"
  }
 },
 "nbformat": 4,
 "nbformat_minor": 0
}
